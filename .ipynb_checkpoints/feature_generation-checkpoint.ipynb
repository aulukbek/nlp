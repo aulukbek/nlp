{
 "cells": [
  {
   "cell_type": "code",
   "execution_count": 1,
   "metadata": {
    "collapsed": true
   },
   "outputs": [],
   "source": [
    "import pandas as pd\n",
    "import numpy as np\n",
    "import seaborn as sns\n",
    "import matplotlib.pyplot as plt\n",
    "%matplotlib inline"
   ]
  },
  {
   "cell_type": "code",
   "execution_count": 2,
   "metadata": {
    "collapsed": true
   },
   "outputs": [],
   "source": [
    "df = pd.read_csv(\"data_final.csv\")"
   ]
  },
  {
   "cell_type": "code",
   "execution_count": 5,
   "metadata": {
    "collapsed": false
   },
   "outputs": [],
   "source": [
    "df = df[[\"infinitive\", \"past\", \"label\", \"description\"]]"
   ]
  },
  {
   "cell_type": "code",
   "execution_count": 7,
   "metadata": {
    "collapsed": false
   },
   "outputs": [],
   "source": [
    "# the number of pyhens "
   ]
  },
  {
   "cell_type": "code",
   "execution_count": 11,
   "metadata": {
    "collapsed": false
   },
   "outputs": [],
   "source": [
    "import pyphen"
   ]
  },
  {
   "cell_type": "code",
   "execution_count": 99,
   "metadata": {
    "collapsed": false
   },
   "outputs": [],
   "source": [
    "import pyphen\n",
    "dic = pyphen.Pyphen(lang='en')"
   ]
  },
  {
   "cell_type": "code",
   "execution_count": 26,
   "metadata": {
    "collapsed": false
   },
   "outputs": [],
   "source": [
    "syllabus = df.infinitive.apply(lambda i: dic.inserted(i)).str.split(\"-\").apply(len)\n",
    "syllabus.name = \"syll_number\""
   ]
  },
  {
   "cell_type": "code",
   "execution_count": 28,
   "metadata": {
    "collapsed": false
   },
   "outputs": [],
   "source": [
    "last_letter = df.infinitive.str[-1]\n",
    "last_letter.name = \"lst_letter\""
   ]
  },
  {
   "cell_type": "code",
   "execution_count": 32,
   "metadata": {
    "collapsed": true
   },
   "outputs": [],
   "source": [
    "last_2letter = df.infinitive.str[-2:]\n",
    "last_2letter.name = \"lst_2letter\""
   ]
  },
  {
   "cell_type": "code",
   "execution_count": 104,
   "metadata": {
    "collapsed": false
   },
   "outputs": [],
   "source": [
    "# the distributions of vowels \n",
    "e_cnt = df.infinitive.str.count(\"e\")\n",
    "e_cnt.name = \"e\"\n",
    "\n",
    "a_cnt = df.infinitive.str.count(\"a\")\n",
    "a_cnt.name = \"a\"\n",
    "\n",
    "i_cnt = df.infinitive.str.count(\"i\")\n",
    "i_cnt.name = \"i\"\n",
    "\n",
    "u_cnt = df.infinitive.str.count(\"u\")\n",
    "u_cnt.name = \"u\"\n",
    "\n",
    "o_cnt = df.infinitive.str.count(\"o\")\n",
    "o_cnt.name = \"o\"\n",
    "\n"
   ]
  },
  {
   "cell_type": "code",
   "execution_count": 105,
   "metadata": {
    "collapsed": false
   },
   "outputs": [],
   "source": [
    "# the number of vowels \n",
    "vowel_cnt = df.infinitive.apply(lambda l: len(set(l).intersection(\"aeiou\")))"
   ]
  },
  {
   "cell_type": "code",
   "execution_count": 106,
   "metadata": {
    "collapsed": false
   },
   "outputs": [],
   "source": [
    "# voiced consonants features \n",
    "voiced = [\"B\", \"D\", \"G\", \"J\", \"L\", \"M\", \"N\", \"NG\", \"R\", \"SZ\", \"V\", \"W\", \"Y\", \"Z\"]\n",
    "voiced_ptr = \"|\".join(voiced)"
   ]
  },
  {
   "cell_type": "code",
   "execution_count": 107,
   "metadata": {
    "collapsed": false
   },
   "outputs": [],
   "source": [
    "# is the last letter a voiced consonant\n",
    "#voiced_cons = np.where(df.infinitive.str.upper().str[-1].isin(voiced), 1, 0)"
   ]
  },
  {
   "cell_type": "code",
   "execution_count": 111,
   "metadata": {
    "collapsed": false
   },
   "outputs": [
    {
     "data": {
      "text/plain": [
       "array([1, 1, 1, 1, 1, 1, 1, 1, 1, 1, 1, 1, 1, 0, 1, 1, 0, 0, 0, 0, 0, 1, 0,\n",
       "       1, 0, 0, 0, 0, 0, 0, 0, 0, 0, 0, 0, 1, 0, 0, 0, 0, 0, 0, 0, 0, 0, 0,\n",
       "       0, 0, 0, 0, 0, 0, 1, 1, 1, 1, 1, 1, 1, 1, 0, 1, 1, 1, 1, 1, 1, 1, 1,\n",
       "       0, 1, 0, 0, 1, 1, 0, 0, 0, 0, 0, 0, 0, 1, 1, 1, 1, 1, 1, 1, 1, 1, 1,\n",
       "       1, 0, 0, 0, 0, 0, 0, 0, 0, 0, 0])"
      ]
     },
     "execution_count": 111,
     "metadata": {},
     "output_type": "execute_result"
    }
   ],
   "source": [
    "voiced_cons = np.where(df.infinitive.str.upper().str[-1].isin(voiced), 1, 0)\n",
    "voiced_cons"
   ]
  },
  {
   "cell_type": "code",
   "execution_count": 112,
   "metadata": {
    "collapsed": false
   },
   "outputs": [
    {
     "data": {
      "text/plain": [
       "array([0, 0, 0, 0, 0, 0, 0, 0, 0, 0, 0, 0, 0, 0, 0, 0, 0, 0, 0, 0, 0, 0, 0,\n",
       "       0, 0, 0, 0, 0, 0, 0, 0, 0, 0, 0, 0, 0, 0, 0, 0, 0, 0, 0, 0, 0, 0, 0,\n",
       "       0, 0, 0, 0, 0, 0, 0, 0, 0, 0, 0, 0, 0, 0, 0, 0, 0, 0, 0, 0, 0, 0, 0,\n",
       "       0, 0, 0, 0, 0, 0, 0, 0, 0, 0, 0, 0, 0, 0, 0, 0, 0, 0, 0, 0, 0, 0, 0,\n",
       "       0, 0, 0, 0, 0, 0, 0, 0, 0, 0, 0])"
      ]
     },
     "execution_count": 112,
     "metadata": {},
     "output_type": "execute_result"
    }
   ],
   "source": [
    "# whether last two letters are voiced consonants\n",
    "voiced_2cons = np.where(df.infinitive.str.upper().str[-1:-3].isin(voiced), 1, 0)\n",
    "voiced_2cons"
   ]
  },
  {
   "cell_type": "code",
   "execution_count": 117,
   "metadata": {
    "collapsed": false
   },
   "outputs": [
    {
     "data": {
      "text/plain": [
       "0       \n",
       "1       \n",
       "2       \n",
       "3       \n",
       "4       \n",
       "5       \n",
       "6       \n",
       "7       \n",
       "8       \n",
       "9       \n",
       "10      \n",
       "11      \n",
       "12      \n",
       "13      \n",
       "14      \n",
       "15      \n",
       "16      \n",
       "17      \n",
       "18      \n",
       "19      \n",
       "20      \n",
       "21      \n",
       "22      \n",
       "23      \n",
       "24      \n",
       "25      \n",
       "26      \n",
       "27      \n",
       "28      \n",
       "29      \n",
       "      ..\n",
       "73      \n",
       "74      \n",
       "75      \n",
       "76      \n",
       "77      \n",
       "78      \n",
       "79      \n",
       "80      \n",
       "81      \n",
       "82      \n",
       "83      \n",
       "84      \n",
       "85      \n",
       "86      \n",
       "87      \n",
       "88      \n",
       "89      \n",
       "90      \n",
       "91      \n",
       "92      \n",
       "93      \n",
       "94      \n",
       "95      \n",
       "96      \n",
       "97      \n",
       "98      \n",
       "99      \n",
       "100     \n",
       "101     \n",
       "102     \n",
       "Name: infinitive, dtype: object"
      ]
     },
     "execution_count": 117,
     "metadata": {},
     "output_type": "execute_result"
    }
   ],
   "source": [
    "df.infinitive.str.upper()."
   ]
  },
  {
   "cell_type": "code",
   "execution_count": 103,
   "metadata": {
    "collapsed": false
   },
   "outputs": [
    {
     "data": {
      "text/plain": [
       "'Ch|F|K|P|S|Sh|T'"
      ]
     },
     "execution_count": 103,
     "metadata": {},
     "output_type": "execute_result"
    }
   ],
   "source": [
    "voiceless = [\"CH\", \"F\", \"K\", \"P\", \"S\", \"SH\", \"T\" ]\n",
    "voiceless_ptr = \"|\".join(voiceless)\n",
    "voiceless_ptr"
   ]
  },
  {
   "cell_type": "code",
   "execution_count": 70,
   "metadata": {
    "collapsed": true
   },
   "outputs": [],
   "source": [
    "voiceless_cons = np.where(df.infinitive.str.upper().str[-1:-3].isin(voiceless), 1, 0)"
   ]
  },
  {
   "cell_type": "code",
   "execution_count": 97,
   "metadata": {
    "collapsed": false
   },
   "outputs": [
    {
     "data": {
      "text/plain": [
       "True"
      ]
     },
     "execution_count": 97,
     "metadata": {},
     "output_type": "execute_result"
    }
   ],
   "source": [
    "df.infinitive.str.upper().str[-2:].str.contains(voiced_ptr)[63]"
   ]
  },
  {
   "cell_type": "code",
   "execution_count": 98,
   "metadata": {
    "collapsed": false
   },
   "outputs": [
    {
     "data": {
      "text/plain": [
       "'hang'"
      ]
     },
     "execution_count": 98,
     "metadata": {},
     "output_type": "execute_result"
    }
   ],
   "source": []
  },
  {
   "cell_type": "code",
   "execution_count": null,
   "metadata": {
    "collapsed": true
   },
   "outputs": [],
   "source": []
  }
 ],
 "metadata": {
  "kernelspec": {
   "display_name": "Python [conda root]",
   "language": "python",
   "name": "conda-root-py"
  },
  "language_info": {
   "codemirror_mode": {
    "name": "ipython",
    "version": 2
   },
   "file_extension": ".py",
   "mimetype": "text/x-python",
   "name": "python",
   "nbconvert_exporter": "python",
   "pygments_lexer": "ipython2",
   "version": "2.7.12"
  }
 },
 "nbformat": 4,
 "nbformat_minor": 1
}
