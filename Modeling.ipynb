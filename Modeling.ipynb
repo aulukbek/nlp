{
 "cells": [
  {
   "cell_type": "code",
   "execution_count": 125,
   "metadata": {
    "collapsed": true
   },
   "outputs": [],
   "source": [
    "import pandas as pd\n",
    "from sklearn import metrics\n",
    "from sklearn.ensemble import RandomForestClassifier\n",
    "from sklearn import preprocessing\n",
    "import warnings\n",
    "warnings.filterwarnings(\"ignore\", category=DeprecationWarning)\n",
    "le = preprocessing.LabelEncoder()\n",
    "le = preprocessing.LabelEncoder()"
   ]
  },
  {
   "cell_type": "code",
   "execution_count": 126,
   "metadata": {
    "collapsed": true
   },
   "outputs": [],
   "source": [
    "def validation_set(data):\n",
    "    labels = data.label.unique()\n",
    "    validation = pd.DataFrame(columns = data.columns)    \n",
    "    for label in labels:\n",
    "        df = data[data.label == label].sample()\n",
    "        validation = pd.concat([validation, df], axis = 0)\n",
    "    train = data[~data.index.isin(validation.index)]\n",
    "    return train, validation"
   ]
  },
  {
   "cell_type": "code",
   "execution_count": 132,
   "metadata": {
    "collapsed": true
   },
   "outputs": [],
   "source": [
    "data = pd.read_csv(\"features.csv\")"
   ]
  },
  {
   "cell_type": "code",
   "execution_count": 133,
   "metadata": {
    "collapsed": false
   },
   "outputs": [],
   "source": [
    "data.drop(data.columns[0], axis = 1, inplace = True)"
   ]
  },
  {
   "cell_type": "code",
   "execution_count": 134,
   "metadata": {
    "collapsed": true
   },
   "outputs": [],
   "source": [
    "np.random.seed(0)"
   ]
  },
  {
   "cell_type": "code",
   "execution_count": 116,
   "metadata": {
    "collapsed": true
   },
   "outputs": [],
   "source": [
    "def train(df):\n",
    "    precision = {}\n",
    "    recall = {}\n",
    "    accuracy = {}\n",
    "    clf = RandomForestClassifier(n_jobs= -1, n_estimators=5, max_depth= 4, max_features=5)\n",
    "    last_letter = preprocessing.LabelEncoder()\n",
    "    last_2letters = preprocessing.LabelEncoder()\n",
    "    last_letter.fit(df.lst_letter)\n",
    "    last_2letters.fit(df.lst_2letter)\n",
    "    for i in range(10):\n",
    "        train, validation = validation_set(df)\n",
    "        # prepare X and y\n",
    "        X = train[train.columns.difference([\"label\"])]\n",
    "        y = train[\"label\"]\n",
    "        X_test = validation[validation.columns.difference([\"label\"])]\n",
    "        y_test = validation[\"label\"]\n",
    "        X.loc[:, \"lst_letter\"] = last_letter.transform(X.lst_letter)\n",
    "        X.loc[:, \"lst_2letter\"] = last_2letters.transform(X.lst_2letter)\n",
    "        X_test.loc[:, \"lst_letter\"] = last_letter.transform(X_test.lst_letter)\n",
    "        X_test.loc[:, \"lst_2letter\"] = last_2letters.transform(X_test.lst_2letter)\n",
    "        clf.fit(X, y)\n",
    "        predictions = clf.predict(X_test)\n",
    "        y_pred = pd.Series(predictions)\n",
    "        acc = metrics.accuracy_score(y_pred= y_pred, y_true= y_test)\n",
    "        accuracy[i] = acc\n",
    "        prec = metrics.precision_score(y_pred = y_pred, y_true = y_test)\n",
    "        precision[i] = prec\n",
    "        rec = metrics.recall_score(y_pred = y_pred, y_true = y_test)\n",
    "        recall[i] = rec\n",
    "    return precision, recall, accuracy"
   ]
  },
  {
   "cell_type": "code",
   "execution_count": 121,
   "metadata": {
    "collapsed": false
   },
   "outputs": [],
   "source": [
    "p, r, a = train(data)"
   ]
  },
  {
   "cell_type": "code",
   "execution_count": 122,
   "metadata": {
    "collapsed": false
   },
   "outputs": [
    {
     "data": {
      "text/plain": [
       "0.62857142857142856"
      ]
     },
     "execution_count": 122,
     "metadata": {},
     "output_type": "execute_result"
    }
   ],
   "source": [
    "import numpy as np\n",
    "np.mean(a.values())"
   ]
  },
  {
   "cell_type": "code",
   "execution_count": 123,
   "metadata": {
    "collapsed": false
   },
   "outputs": [
    {
     "data": {
      "text/plain": [
       "0.49821428571428567"
      ]
     },
     "execution_count": 123,
     "metadata": {},
     "output_type": "execute_result"
    }
   ],
   "source": [
    "np.mean(p.values())"
   ]
  },
  {
   "cell_type": "code",
   "execution_count": 124,
   "metadata": {
    "collapsed": false
   },
   "outputs": [
    {
     "data": {
      "text/plain": [
       "0.62857142857142856"
      ]
     },
     "execution_count": 124,
     "metadata": {},
     "output_type": "execute_result"
    }
   ],
   "source": [
    "np.mean(r.values())"
   ]
  },
  {
   "cell_type": "code",
   "execution_count": 130,
   "metadata": {
    "collapsed": true
   },
   "outputs": [],
   "source": [
    "clf = RandomForestClassifier(n_jobs= -1, n_estimators=5, max_depth= 4, max_features=5)"
   ]
  },
  {
   "cell_type": "code",
   "execution_count": 135,
   "metadata": {
    "collapsed": false
   },
   "outputs": [],
   "source": [
    "X = data[data.columns.difference([\"label\"])]\n",
    "y = data[\"label\"]"
   ]
  },
  {
   "cell_type": "code",
   "execution_count": 139,
   "metadata": {
    "collapsed": false
   },
   "outputs": [
    {
     "data": {
      "text/plain": [
       "LabelEncoder()"
      ]
     },
     "execution_count": 139,
     "metadata": {},
     "output_type": "execute_result"
    }
   ],
   "source": [
    "last_letter = preprocessing.LabelEncoder()\n",
    "last_2letters = preprocessing.LabelEncoder()\n",
    "last_letter.fit(data.lst_letter)\n",
    "last_2letters.fit(data.lst_2letter)"
   ]
  },
  {
   "cell_type": "code",
   "execution_count": 140,
   "metadata": {
    "collapsed": true
   },
   "outputs": [],
   "source": [
    "X.loc[:, \"lst_letter\"] = last_letter.transform(X.lst_letter)\n",
    "X.loc[:, \"lst_2letter\"] = last_2letters.transform(X.lst_2letter)"
   ]
  },
  {
   "cell_type": "code",
   "execution_count": 141,
   "metadata": {
    "collapsed": false
   },
   "outputs": [
    {
     "data": {
      "text/plain": [
       "RandomForestClassifier(bootstrap=True, class_weight=None, criterion='gini',\n",
       "            max_depth=4, max_features=5, max_leaf_nodes=None,\n",
       "            min_samples_leaf=1, min_samples_split=2,\n",
       "            min_weight_fraction_leaf=0.0, n_estimators=5, n_jobs=-1,\n",
       "            oob_score=False, random_state=None, verbose=0,\n",
       "            warm_start=False)"
      ]
     },
     "execution_count": 141,
     "metadata": {},
     "output_type": "execute_result"
    }
   ],
   "source": [
    "clf.fit(X, y)"
   ]
  },
  {
   "cell_type": "code",
   "execution_count": 147,
   "metadata": {
    "collapsed": false
   },
   "outputs": [],
   "source": [
    "s1 = pd.Series(X.columns)\n",
    "s2 = pd.Series(clf.feature_importances_)"
   ]
  },
  {
   "cell_type": "code",
   "execution_count": 154,
   "metadata": {
    "collapsed": false
   },
   "outputs": [],
   "source": [
    "tbl = pd.concat([s1, s2], axis = 1)"
   ]
  },
  {
   "cell_type": "code",
   "execution_count": 155,
   "metadata": {
    "collapsed": true
   },
   "outputs": [],
   "source": [
    "tbl.columns = [\"name\", \"imp\"]"
   ]
  },
  {
   "cell_type": "code",
   "execution_count": 158,
   "metadata": {
    "collapsed": false
   },
   "outputs": [
    {
     "data": {
      "text/html": [
       "<div>\n",
       "<table border=\"1\" class=\"dataframe\">\n",
       "  <thead>\n",
       "    <tr style=\"text-align: right;\">\n",
       "      <th></th>\n",
       "      <th>name</th>\n",
       "      <th>imp</th>\n",
       "    </tr>\n",
       "  </thead>\n",
       "  <tbody>\n",
       "    <tr>\n",
       "      <th>8</th>\n",
       "      <td>o</td>\n",
       "      <td>0.000000</td>\n",
       "    </tr>\n",
       "    <tr>\n",
       "      <th>13</th>\n",
       "      <td>voiced_2lst</td>\n",
       "      <td>0.000000</td>\n",
       "    </tr>\n",
       "    <tr>\n",
       "      <th>12</th>\n",
       "      <td>u</td>\n",
       "      <td>0.000000</td>\n",
       "    </tr>\n",
       "    <tr>\n",
       "      <th>9</th>\n",
       "      <td>oo</td>\n",
       "      <td>0.000000</td>\n",
       "    </tr>\n",
       "    <tr>\n",
       "      <th>17</th>\n",
       "      <td>vowel_cnts</td>\n",
       "      <td>0.000000</td>\n",
       "    </tr>\n",
       "    <tr>\n",
       "      <th>15</th>\n",
       "      <td>voiceless_2lst</td>\n",
       "      <td>0.001859</td>\n",
       "    </tr>\n",
       "    <tr>\n",
       "      <th>0</th>\n",
       "      <td>a</td>\n",
       "      <td>0.006483</td>\n",
       "    </tr>\n",
       "    <tr>\n",
       "      <th>16</th>\n",
       "      <td>voiceless_lst</td>\n",
       "      <td>0.020783</td>\n",
       "    </tr>\n",
       "    <tr>\n",
       "      <th>5</th>\n",
       "      <td>i</td>\n",
       "      <td>0.025320</td>\n",
       "    </tr>\n",
       "    <tr>\n",
       "      <th>4</th>\n",
       "      <td>ee</td>\n",
       "      <td>0.031804</td>\n",
       "    </tr>\n",
       "    <tr>\n",
       "      <th>14</th>\n",
       "      <td>voiced_lst</td>\n",
       "      <td>0.042474</td>\n",
       "    </tr>\n",
       "    <tr>\n",
       "      <th>3</th>\n",
       "      <td>e</td>\n",
       "      <td>0.073718</td>\n",
       "    </tr>\n",
       "    <tr>\n",
       "      <th>11</th>\n",
       "      <td>t_</td>\n",
       "      <td>0.073757</td>\n",
       "    </tr>\n",
       "    <tr>\n",
       "      <th>1</th>\n",
       "      <td>c_</td>\n",
       "      <td>0.097281</td>\n",
       "    </tr>\n",
       "    <tr>\n",
       "      <th>6</th>\n",
       "      <td>lst_2letter</td>\n",
       "      <td>0.097529</td>\n",
       "    </tr>\n",
       "    <tr>\n",
       "      <th>10</th>\n",
       "      <td>syll_number</td>\n",
       "      <td>0.118725</td>\n",
       "    </tr>\n",
       "    <tr>\n",
       "      <th>2</th>\n",
       "      <td>d_</td>\n",
       "      <td>0.167082</td>\n",
       "    </tr>\n",
       "    <tr>\n",
       "      <th>7</th>\n",
       "      <td>lst_letter</td>\n",
       "      <td>0.243185</td>\n",
       "    </tr>\n",
       "  </tbody>\n",
       "</table>\n",
       "</div>"
      ],
      "text/plain": [
       "              name       imp\n",
       "8                o  0.000000\n",
       "13     voiced_2lst  0.000000\n",
       "12               u  0.000000\n",
       "9               oo  0.000000\n",
       "17      vowel_cnts  0.000000\n",
       "15  voiceless_2lst  0.001859\n",
       "0                a  0.006483\n",
       "16   voiceless_lst  0.020783\n",
       "5                i  0.025320\n",
       "4               ee  0.031804\n",
       "14      voiced_lst  0.042474\n",
       "3                e  0.073718\n",
       "11              t_  0.073757\n",
       "1               c_  0.097281\n",
       "6      lst_2letter  0.097529\n",
       "10     syll_number  0.118725\n",
       "2               d_  0.167082\n",
       "7       lst_letter  0.243185"
      ]
     },
     "execution_count": 158,
     "metadata": {},
     "output_type": "execute_result"
    }
   ],
   "source": [
    "tbl.sort_values(by = \"imp\", ascending= [\"False\"])"
   ]
  },
  {
   "cell_type": "code",
   "execution_count": null,
   "metadata": {
    "collapsed": true
   },
   "outputs": [],
   "source": []
  }
 ],
 "metadata": {
  "kernelspec": {
   "display_name": "Python [conda root]",
   "language": "python",
   "name": "conda-root-py"
  },
  "language_info": {
   "codemirror_mode": {
    "name": "ipython",
    "version": 2
   },
   "file_extension": ".py",
   "mimetype": "text/x-python",
   "name": "python",
   "nbconvert_exporter": "python",
   "pygments_lexer": "ipython2",
   "version": "2.7.12"
  }
 },
 "nbformat": 4,
 "nbformat_minor": 1
}
